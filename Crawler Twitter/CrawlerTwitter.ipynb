{
 "cells": [
  {
   "cell_type": "code",
   "execution_count": 1,
   "metadata": {},
   "outputs": [],
   "source": [
    "import tweepy\n",
    "import pandas as pd\n",
    "import time\n",
    "import csv\n",
    "\n",
    "consumer_key = \"\"\n",
    "consumer_secret = \"\"\n",
    "access_token = \"\"\n",
    "access_token_secret = \"\"\n",
    "\n",
    "auth = tweepy.OAuthHandler(consumer_key, consumer_secret)\n",
    "auth.set_access_token(access_token, access_token_secret)\n",
    "\n",
    "api = tweepy.API(auth)\n",
    "\n",
    "#public_tweets = api.home_timeline()\n"
   ]
  },
  {
   "cell_type": "code",
   "execution_count": 2,
   "metadata": {},
   "outputs": [],
   "source": [
    "search_strings = \"corona OR presidente OR impeachtment OR bolsonaro OR coronavirus OR #corona OR #coronga OR #coronavirus OR quarentena OR pandemia OR covid19 OR covid-19 OR covid_19 OR #coronavirus OR #coronavirusoutbreak OR #coronavirusPandemic OR #covid19 OR #covid_19 -filter:retweets\""
   ]
  },
  {
   "cell_type": "code",
   "execution_count": 5,
   "metadata": {},
   "outputs": [],
   "source": [
    "def limit_handled(cursor):\n",
    "    counter=0\n",
    "    while True:\n",
    "        try:\n",
    "            counter = counter + 1\n",
    "            yield cursor.next()\n",
    "        except tweepy.RateLimitError:\n",
    "            print(counter)\n",
    "            print(\"Sleepy for 15 minutes.\")\n",
    "            time.sleep(15 * 60)\n",
    "            continue\n",
    "        except tweepy.TweepError:\n",
    "            print(counter)\n",
    "            print(\"Sleepy for 15 minutes.\")\n",
    "            time.sleep(15 * 60)\n",
    "            continue\n",
    "        except StopIteration:\n",
    "            break"
   ]
  },
  {
   "cell_type": "code",
   "execution_count": null,
   "metadata": {
    "scrolled": true
   },
   "outputs": [
    {
     "name": "stdout",
     "output_type": "stream",
     "text": [
      "2485\n",
      "Sleepy for 15 minutes.\n",
      "5177\n",
      "Sleepy for 15 minutes.\n",
      "7860\n",
      "Sleepy for 15 minutes.\n",
      "10551\n",
      "Sleepy for 15 minutes.\n",
      "13240\n",
      "Sleepy for 15 minutes.\n",
      "15932\n",
      "Sleepy for 15 minutes.\n",
      "18620\n",
      "Sleepy for 15 minutes.\n",
      "21316\n",
      "Sleepy for 15 minutes.\n",
      "24008\n",
      "Sleepy for 15 minutes.\n",
      "26704\n",
      "Sleepy for 15 minutes.\n",
      "29402\n",
      "Sleepy for 15 minutes.\n",
      "32093\n",
      "Sleepy for 15 minutes.\n",
      "34789\n",
      "Sleepy for 15 minutes.\n",
      "37486\n",
      "Sleepy for 15 minutes.\n",
      "40184\n",
      "Sleepy for 15 minutes.\n",
      "42878\n",
      "Sleepy for 15 minutes.\n",
      "45575\n",
      "Sleepy for 15 minutes.\n",
      "48270\n",
      "Sleepy for 15 minutes.\n",
      "50960\n",
      "Sleepy for 15 minutes.\n"
     ]
    }
   ],
   "source": [
    "with open ('corona_tweets_03.csv', 'a', encoding = 'utf-8') as csvFile:\n",
    "    csvWriter = csv.writer(csvFile)\n",
    "    #using tweepy Cursor\n",
    "    csvWriter.writerow(['id', 'created_at', 'full_text', 'country_code', 'lang', 'latitude', \"longitude\", 'location'])\n",
    "    for tweet in limit_handled(tweepy.Cursor(api.search,\n",
    "                       q=search_strings,\n",
    "                       tweet_mode = 'extended',\n",
    "                       lang='pt',\n",
    "                       since='2020-04-03',\n",
    "                       until='2020-04-04').items()):\n",
    "        csvWriter.writerow([tweet.id, \n",
    "                            tweet.created_at, \n",
    "                            tweet.full_text, \n",
    "                            tweet.place.country_code if tweet.place != None else \"N/A\", \n",
    "                            tweet.lang,\n",
    "                            tweet.geo.get('coordinates')[0] if tweet.geo != None else \"N/A\",\n",
    "                            tweet.geo.get('coordinates')[1] if tweet.geo != None else \"N/A\",\n",
    "                            tweet.user.location if tweet.user.location != None else \"N/A\"\n",
    "                           ])"
   ]
  }
 ],
 "metadata": {
  "kernelspec": {
   "display_name": "Python 3",
   "language": "python",
   "name": "python3"
  },
  "language_info": {
   "codemirror_mode": {
    "name": "ipython",
    "version": 3
   },
   "file_extension": ".py",
   "mimetype": "text/x-python",
   "name": "python",
   "nbconvert_exporter": "python",
   "pygments_lexer": "ipython3",
   "version": "3.7.6"
  }
 },
 "nbformat": 4,
 "nbformat_minor": 4
}
